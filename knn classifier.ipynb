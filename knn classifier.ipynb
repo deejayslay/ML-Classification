{
 "cells": [
  {
   "cell_type": "code",
   "execution_count": 1,
   "metadata": {},
   "outputs": [],
   "source": [
    "import numpy as np\n",
    "import matplotlib.pyplot as plt\n",
    "import mltools as ml\n",
    "from sklearn.neighbors import KNeighborsClassifier"
   ]
  },
  {
   "cell_type": "code",
   "execution_count": 2,
   "metadata": {},
   "outputs": [],
   "source": [
    "np.random.seed(0)\n",
    "X = np.genfromtxt('data/X_train.txt', delimiter=None)\n",
    "Y = np.genfromtxt('data/Y_train.txt', delimiter=None)\n",
    "X,Y = ml.shuffleData(X,Y)\n",
    "Xtr,Ytr,Xva,Yva = X[:160000,:], Y[:160000], X[160000:200000, :], Y[160000:200000]"
   ]
  },
  {
   "cell_type": "code",
   "execution_count": 16,
   "metadata": {},
   "outputs": [
    {
     "name": "stdout",
     "output_type": "stream",
     "text": [
      "1, Training AUC: 0.94195625, Validation AUC: 0.690975\n",
      "2, Training AUC: 0.8365875, Validation AUC: 0.711975\n",
      "3, Training AUC: 0.8402625, Validation AUC: 0.707075\n",
      "4, Training AUC: 0.80306875, Validation AUC: 0.716025\n",
      "5, Training AUC: 0.80365, Validation AUC: 0.71185\n",
      "6, Training AUC: 0.78424375, Validation AUC: 0.7189\n",
      "7, Training AUC: 0.7846125, Validation AUC: 0.7144\n",
      "8, Training AUC: 0.771175, Validation AUC: 0.717525\n",
      "9, Training AUC: 0.77044375, Validation AUC: 0.71435\n",
      "10, Training AUC: 0.7618625, Validation AUC: 0.7181\n",
      "11, Training AUC: 0.76165, Validation AUC: 0.715025\n",
      "12, Training AUC: 0.75388125, Validation AUC: 0.717075\n",
      "13, Training AUC: 0.75410625, Validation AUC: 0.714425\n",
      "14, Training AUC: 0.74784375, Validation AUC: 0.715175\n",
      "15, Training AUC: 0.74825625, Validation AUC: 0.714075\n",
      "16, Training AUC: 0.74299375, Validation AUC: 0.714525\n",
      "17, Training AUC: 0.74321875, Validation AUC: 0.7126\n",
      "18, Training AUC: 0.73865, Validation AUC: 0.7118\n",
      "19, Training AUC: 0.7389625, Validation AUC: 0.709025\n"
     ]
    }
   ],
   "source": [
    "for i in range(1,20):\n",
    "    learner = KNeighborsClassifier(n_neighbors=i)\n",
    "    learner.fit(Xtr, Ytr)\n",
    "    tscore = learner.score(Xtr,Ytr)\n",
    "    vscore = learner.score(Xva,Yva)\n",
    "    print(f'{i}, Training AUC: {tscore}, Validation AUC: {vscore}')"
   ]
  },
  {
   "cell_type": "code",
   "execution_count": 3,
   "metadata": {},
   "outputs": [],
   "source": [
    "learner = KNeighborsClassifier(n_neighbors=2)\n",
    "learner.fit(X,Y)\n",
    "Xte = np.genfromtxt('data/X_test.txt', delimiter=None)\n",
    "Yte = np.vstack((np.arange(Xte.shape[0]),learner.predict(Xte))).T\n",
    "np.savetxt('Y_submit.txt',Yte,'%d, %.2f',header='ID,Prob1',comments='',delimiter=',')"
   ]
  },
  {
   "cell_type": "code",
   "execution_count": null,
   "metadata": {},
   "outputs": [],
   "source": []
  },
  {
   "cell_type": "code",
   "execution_count": null,
   "metadata": {},
   "outputs": [],
   "source": []
  }
 ],
 "metadata": {
  "kernelspec": {
   "display_name": "Python 3",
   "language": "python",
   "name": "python3"
  },
  "language_info": {
   "codemirror_mode": {
    "name": "ipython",
    "version": 3
   },
   "file_extension": ".py",
   "mimetype": "text/x-python",
   "name": "python",
   "nbconvert_exporter": "python",
   "pygments_lexer": "ipython3",
   "version": "3.7.6"
  }
 },
 "nbformat": 4,
 "nbformat_minor": 4
}
